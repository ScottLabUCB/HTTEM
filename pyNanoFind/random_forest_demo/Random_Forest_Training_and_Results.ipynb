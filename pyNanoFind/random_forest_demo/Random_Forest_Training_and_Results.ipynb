{
 "cells": [
  {
   "cell_type": "code",
   "execution_count": 84,
   "metadata": {},
   "outputs": [],
   "source": [
    "import numpy as np\n",
    "import matplotlib.pyplot as plt\n",
    "from skimage.measure import label, regionprops\n",
    "import h5py\n",
    "import sys\n",
    "sys.path.append('./utilities')\n",
    "import realDataProcess as rdp\n",
    "from skimage.color import label2rgb\n",
    "import matplotlib.patches as mpatches\n",
    "from skimage.morphology import convex_hull_object, opening,closing, disk\n",
    "import random_forest_v2 as rf\n",
    "import pandas as pd\n",
    "import os\n",
    "from sklearn.utils import shuffle\n",
    "import seaborn as sns\n",
    "import labelmask as lm\n",
    "from glob import glob\n",
    "from skimage import io\n",
    "import pickle\n",
    "from skimage import feature\n",
    "from skimage import util\n",
    "import segmentationAnalysis as sega\n",
    "import freqCutting as fcut\n",
    "from scipy import fftpack\n",
    "from skimage import filters\n",
    "import pandas as pd\n",
    "import random\n",
    "from sklearn.ensemble import RandomForestClassifier\n",
    "from sklearn import model_selection\n",
    "from scipy.special import erf\n",
    "from sklearn import metrics\n",
    "from skimage import morphology\n"
   ]
  },
  {
   "cell_type": "markdown",
   "metadata": {},
   "source": [
    "# Morphological Filtering and Get Samples of Empty Regions"
   ]
  },
  {
   "cell_type": "code",
   "execution_count": 198,
   "metadata": {},
   "outputs": [],
   "source": [
    "maps = h5py.File('Bal_unFilt_CdSeRelabel512Images_20190724_maps.h5')['maps'][:,:,:,:]"
   ]
  },
  {
   "cell_type": "code",
   "execution_count": 199,
   "metadata": {},
   "outputs": [],
   "source": [
    "images = h5py.File('Bal_MedFilt_CdSeRelabel512Images_20190726.h5')['images'][:,:,:,:]"
   ]
  },
  {
   "cell_type": "code",
   "execution_count": 200,
   "metadata": {},
   "outputs": [],
   "source": [
    "def get_empties(images,maps):\n",
    "    empty_squares = []\n",
    "    empty_maps = []\n",
    "    for idx,img in enumerate(images):\n",
    "        points = np.argwhere(maps[idx,:,:,0])\n",
    "        x1 = points[np.random.random_integers(0,200),1]\n",
    "        y1 = points[np.random.random_integers(0,200),0]\n",
    "        x2 = x1 + 100 + np.random.random_integers(0,50)\n",
    "        y2 = y1 + 100 + np.random.random_integers(0,50)\n",
    "        square = img[x1:x2,y1:y2,0]\n",
    "        square_map = maps[idx,x1:x2,y1:y2,0]\n",
    "        if np.all(square_map) == True:\n",
    "            empty_squares.append(square)\n",
    "            empty_maps.append(square_map)\n",
    "    return empty_squares, empty_maps"
   ]
  },
  {
   "cell_type": "code",
   "execution_count": 201,
   "metadata": {},
   "outputs": [
    {
     "name": "stderr",
     "output_type": "stream",
     "text": [
      "/Users/cgroschner/anaconda/lib/python3.6/site-packages/ipykernel_launcher.py:6: DeprecationWarning: This function is deprecated. Please call randint(0, 200 + 1) instead\n",
      "  \n",
      "/Users/cgroschner/anaconda/lib/python3.6/site-packages/ipykernel_launcher.py:7: DeprecationWarning: This function is deprecated. Please call randint(0, 200 + 1) instead\n",
      "  import sys\n",
      "/Users/cgroschner/anaconda/lib/python3.6/site-packages/ipykernel_launcher.py:8: DeprecationWarning: This function is deprecated. Please call randint(0, 50 + 1) instead\n",
      "  \n",
      "/Users/cgroschner/anaconda/lib/python3.6/site-packages/ipykernel_launcher.py:9: DeprecationWarning: This function is deprecated. Please call randint(0, 50 + 1) instead\n",
      "  if __name__ == '__main__':\n"
     ]
    }
   ],
   "source": [
    "test_empty, test_map_empty = get_empties(images,maps)"
   ]
  },
  {
   "cell_type": "code",
   "execution_count": 209,
   "metadata": {},
   "outputs": [],
   "source": [
    "def postprocess_map(mask):\n",
    "    \"\"\"remove rough edges from mask objects using morphological opening, closing and then convex hull object\"\"\"\n",
    "    m = convex_hull_object(closing(opening(mask),selem=disk(5)))\n",
    "    return m"
   ]
  },
  {
   "cell_type": "code",
   "execution_count": 210,
   "metadata": {},
   "outputs": [],
   "source": [
    "def postprocess_map_stack(map_stack):\n",
    "    \"\"\"Post processes satck of maps\"\"\"\n",
    "    new_maps = np.zeros(map_stack.shape)\n",
    "    for idx,mask in enumerate(map_stack):\n",
    "        new_maps[idx] = postprocess_map(mask)\n",
    "    return new_maps"
   ]
  },
  {
   "cell_type": "code",
   "execution_count": 211,
   "metadata": {},
   "outputs": [],
   "source": [
    "def box_coordinates(mask, particle_size,max_width,max_height,min_width,min_height,max_r = 0,max_c = 0):\n",
    "    \"\"\"find particle regions and return coordinates for particle regions\"\"\"\n",
    "    labels = label(mask)\n",
    "    particles = []\n",
    "    for region in regionprops(labels):\n",
    "        # take regions with large enough areas\n",
    "        if region.area >= particle_size:\n",
    "            # draw rectangle around segmented coins\n",
    "            minr, minc, maxr, maxc = region.bbox\n",
    "            dif_r = maxr - minr\n",
    "            dif_c = maxc-minc\n",
    "            if dif_r < max_height and dif_c < max_width and dif_r > min_height and dif_c > min_width:\n",
    "        \n",
    "                if dif_r > max_r:\n",
    "                    max_r = dif_r\n",
    "                if dif_c > max_c:\n",
    "                    max_c = dif_c\n",
    "                particles.append([minr,maxr,minc,maxc])\n",
    "            else:\n",
    "                pass\n",
    "    return particles, max_r, max_c"
   ]
  },
  {
   "cell_type": "code",
   "execution_count": 212,
   "metadata": {},
   "outputs": [],
   "source": [
    "def box_cut_images_noPad(image_stack,map_stack, particle_size, max_width,max_height, min_width,min_height, postprocess = False):\n",
    "    new_stack = []\n",
    "    max_x = 0\n",
    "    max_y = 0\n",
    "    count = 0\n",
    "    fname = input('enter directory: ')\n",
    "    if postprocess == True:\n",
    "        new_maps = postprocess_map_stack(map_stack[:,:,:,1])\n",
    "    else:\n",
    "        new_maps = map_stack[:,:,:,1].copy()\n",
    "    for idx, mask in enumerate(new_maps):\n",
    "        coords, y, x = box_coordinates(mask, particle_size, max_width,max_height,min_width,min_height, max_y,max_x)\n",
    "        count += len(coords)\n",
    "        for c in coords:\n",
    "            new_stack.append(image_stack[idx][c[0]:c[1],c[2]:c[3]])\n",
    "    for idx,img in enumerate(new_stack):\n",
    "        idx = str(idx)\n",
    "        if len(idx) < 3:\n",
    "            while len(idx) < 3:\n",
    "                idx = '0'+idx\n",
    "        filename = fname +'/particle_' + idx + '.png'\n",
    "        plt.imsave(filename,img.reshape(img.shape[0],img.shape[1]))\n",
    "    return new_stack"
   ]
  },
  {
   "cell_type": "code",
   "execution_count": 26,
   "metadata": {
    "scrolled": false
   },
   "outputs": [
    {
     "name": "stdout",
     "output_type": "stream",
     "text": [
      "enter directory: demo_processing\n"
     ]
    }
   ],
   "source": [
    "im_stack3 = box_cut_images_noPad(images,maps,200,250,250,75,75)"
   ]
  },
  {
   "cell_type": "markdown",
   "metadata": {},
   "source": [
    "# Dataset created for Random Forest"
   ]
  },
  {
   "cell_type": "code",
   "execution_count": 213,
   "metadata": {},
   "outputs": [],
   "source": [
    "def get_images(pathname,label):\n",
    "    filenames = glob(pathname+'*.png')\n",
    "    images = []\n",
    "    labels = []\n",
    "    for f in filenames:\n",
    "        images.append(io.imread(f))\n",
    "        labels.append(label)\n",
    "    return images, labels"
   ]
  },
  {
   "cell_type": "code",
   "execution_count": 311,
   "metadata": {},
   "outputs": [],
   "source": [
    "agg_path = '/Users/cgroschner/Documents/RandomForest_labeling/relabeling/agglomeration/'\n",
    "agg_images, agg_labels = get_images(agg_path,'agglomeration')"
   ]
  },
  {
   "cell_type": "code",
   "execution_count": 312,
   "metadata": {},
   "outputs": [],
   "source": [
    "empty_path = '/Users/cgroschner/Documents/RandomForest_labeling/relabeling/empty/'\n",
    "empty_images, empty_labels = get_images(empty_path,'empty')"
   ]
  },
  {
   "cell_type": "code",
   "execution_count": 313,
   "metadata": {},
   "outputs": [],
   "source": [
    "yes_path = '/Users/cgroschner/Documents/RandomForest_labeling/relabeling/yes/'\n",
    "yes_images, yes_labels = get_images(yes_path,'yes')"
   ]
  },
  {
   "cell_type": "code",
   "execution_count": 314,
   "metadata": {},
   "outputs": [],
   "source": [
    "no_path = '/Users/cgroschner/Documents/RandomForest_labeling/relabeling/no/'\n",
    "no_images, no_labels = get_images(no_path,'no')"
   ]
  },
  {
   "cell_type": "code",
   "execution_count": 315,
   "metadata": {},
   "outputs": [],
   "source": [
    "nofringe_path = '/Users/cgroschner/Documents/RandomForest_labeling/relabeling/no_fringe/'\n",
    "nofringe_images, nofringe_labels = get_images(nofringe_path,'nofringe')"
   ]
  },
  {
   "cell_type": "code",
   "execution_count": 316,
   "metadata": {},
   "outputs": [
    {
     "name": "stdout",
     "output_type": "stream",
     "text": [
      "agg count:  116 empty count:  22 yes count:  150 no count:  161 no fringe count:  143\n"
     ]
    }
   ],
   "source": [
    "print('agg count: ',len(agg_images),'empty count: ',len(empty_images),'yes count: ',len(yes_images),'no count: ',len(no_images),'no fringe count: ',len(nofringe_images))"
   ]
  },
  {
   "cell_type": "code",
   "execution_count": 355,
   "metadata": {},
   "outputs": [],
   "source": [
    "new_labels = ['empty' for i in np.arange(0,len(test_empty))]"
   ]
  },
  {
   "cell_type": "code",
   "execution_count": 356,
   "metadata": {},
   "outputs": [],
   "source": [
    "#compile different class images and labels\n",
    "rf_images = agg_images + no_images + nofringe_images + yes_images + empty_images + test_empty\n",
    "\n",
    "rf_labels = agg_labels + no_labels + nofringe_labels + yes_labels + empty_labels + new_labels"
   ]
  },
  {
   "cell_type": "code",
   "execution_count": 357,
   "metadata": {},
   "outputs": [],
   "source": [
    "rf_images_shuf, rf_labels_shuff = shuffle(rf_images,rf_labels,random_state = 0)"
   ]
  },
  {
   "cell_type": "markdown",
   "metadata": {},
   "source": [
    "# Create Features"
   ]
  },
  {
   "cell_type": "code",
   "execution_count": 253,
   "metadata": {},
   "outputs": [],
   "source": [
    "def sigmoid(q,qmin,qmax):\n",
    "    \"\"\"qmin,qmax are the values at which the sigmoid has --by eye-- arrived at its asymptotes\"\"\"\n",
    "    z = (q - (qmin + (qmax-qmin)/2.)) / (qmax-qmin) * 4\n",
    "    return (1+erf(z))/2.\n",
    "\n",
    "def annulus(q,q0,q1,q2,q3):\n",
    "    return sigmoid(q,q0,q1) - sigmoid(q,q2,q3)\n",
    "\n",
    "def annular_mask(shape,minr,ring_width,sig_width=20):\n",
    "    x = shape[0]\n",
    "    y = shape[1]\n",
    "    xx, yy = np.meshgrid(np.arange(x),np.arange(y))\n",
    "    max1 = minr+sig_width\n",
    "    min2 = max1 + ring_width\n",
    "    max2 = min2 + sig_width\n",
    "    rr = np.sqrt((xx-x/2)**2+(yy-y/2)**2)\n",
    "    mask = annulus(rr,minr,max1,min2,max2)\n",
    "    return mask\n",
    "\n",
    "def fft_integrate(image):\n",
    "    x = np.arange(0,image.shape[0])\n",
    "    y = np.arange(0,image.shape[1])\n",
    "    if x.shape[0] < y.shape[0]:\n",
    "        r = np.sqrt(x**2+x**2)\n",
    "        cut = image[:,:x.shape[0]]\n",
    "    elif y.shape[0] < x.shape[0]:\n",
    "        r = np.sqrt(y**2+y**2)\n",
    "        cut = image[:y.shape[0],:]\n",
    "    else:\n",
    "        r = np.sqrt(x**2+y**2)\n",
    "        cut = image\n",
    "    f =fftpack.fft2(cut)\n",
    "    fft_integrate = np.zeros(r.shape)\n",
    "    for idx,rad in enumerate(r):\n",
    "        mask = annular_mask(cut.shape,rad,10,4)\n",
    "        cut_f = np.abs(fftpack.fftshift(f)*mask)\n",
    "        fft_integrate[idx] = cut_f.flatten().sum()\n",
    "    return fft_integrate"
   ]
  },
  {
   "cell_type": "code",
   "execution_count": 254,
   "metadata": {},
   "outputs": [],
   "source": [
    "def standardize_flattened_feature_size(image_input,size,only_end= False,print_flag=True):\n",
    "    image = image_input.copy()\n",
    "    difx = image_input.shape[0] - size\n",
    "    option = 0\n",
    "    if only_end == True and difx<0:\n",
    "        # this option is if you have a feature fecture and you just want to tack zeros on the end\n",
    "        new_shape = (size,)\n",
    "        holder = np.zeros(new_shape)\n",
    "        holder[:image.shape[0]] = image\n",
    "        image = holder\n",
    "    elif only_end == True and difx>0:\n",
    "        image = image[:size]\n",
    "        option = 0.5\n",
    "    elif only_end == False and difx > 0:\n",
    "        midx = difx//2\n",
    "        oddtest = -difx%2\n",
    "        if oddtest == 0:\n",
    "            image = image[midx:-midx]\n",
    "        elif oddtest == 1:\n",
    "            image = image[midx:-(midx+1)]\n",
    "        option =1\n",
    "    elif only_end == False and difx< 0:\n",
    "        new_shape = (size,)\n",
    "        holder = np.zeros(new_shape)\n",
    "        midx = -difx//2\n",
    "        holder[midx:midx+image.shape[0]] = image\n",
    "        image = holder\n",
    "        option = 2\n",
    "    if print_flag == True:\n",
    "        print(option)\n",
    "    return image"
   ]
  },
  {
   "cell_type": "code",
   "execution_count": 255,
   "metadata": {},
   "outputs": [],
   "source": [
    "def center_of_mass(fft_int):\n",
    "    x_vals = np.arange(0,fft_int.shape[0])\n",
    "    top = np.dot(fft_int,x_vals)\n",
    "    bottom = fft_int.sum()\n",
    "    return top/bottom"
   ]
  },
  {
   "cell_type": "code",
   "execution_count": 282,
   "metadata": {},
   "outputs": [],
   "source": [
    "def gather_img_features(image):\n",
    "    features = []\n",
    "    fft_int = fft_integrate(image)[:100]\n",
    "    features.append(fft_int.mean())\n",
    "    features.append(fft_int.std())\n",
    "    features.append(image.mean())\n",
    "    features.append(image.std())\n",
    "    com = center_of_mass(fft_int)\n",
    "    features.append(com)\n",
    "    return np.array(features)"
   ]
  },
  {
   "cell_type": "code",
   "execution_count": null,
   "metadata": {},
   "outputs": [],
   "source": [
    "gather_img_features"
   ]
  },
  {
   "cell_type": "code",
   "execution_count": 330,
   "metadata": {},
   "outputs": [],
   "source": [
    "def feature_frame(images,size):\n",
    "    length = size*size\n",
    "#     for idx, img in enumerate(images):\n",
    "#         if img.dtype != 'uint8':\n",
    "#             images[idx] = img.astype('uint8')\n",
    "    feta = gather_img_features(images[0])\n",
    "    feature_labels= [['fft_int_std'],['fft_int_mean'],['image_mean'],['image_std'],['fft_int_com']]\n",
    "    feature_labels = sum(feature_labels, [])\n",
    "    features = {'0':feta}\n",
    "    print(features)\n",
    "    for idx,img in enumerate(images[1:]):\n",
    "        feta = gather_img_features(img)\n",
    "        if np.any(np.isnan(feta)) ==True:\n",
    "            print(feta, idx, img.shape)\n",
    "        features[str(idx+1)] = feta\n",
    "    df = pd.DataFrame.from_dict(features,orient='index')\n",
    "    df.columns = feature_labels\n",
    "    return df"
   ]
  },
  {
   "cell_type": "code",
   "execution_count": 358,
   "metadata": {},
   "outputs": [
    {
     "name": "stdout",
     "output_type": "stream",
     "text": [
      "{'0': array([9.17227218e+05, 1.26994815e+06, 1.06339683e+02, 2.09590835e+01,\n",
      "       1.38435157e+01])}\n"
     ]
    }
   ],
   "source": [
    "df_relabel2 = feature_frame(rf_images_shuf,100)"
   ]
  },
  {
   "cell_type": "code",
   "execution_count": 360,
   "metadata": {},
   "outputs": [],
   "source": [
    "df_relabel2['labels'] = rf_labels_shuff"
   ]
  },
  {
   "cell_type": "code",
   "execution_count": 361,
   "metadata": {},
   "outputs": [
    {
     "data": {
      "text/html": [
       "<div>\n",
       "<style scoped>\n",
       "    .dataframe tbody tr th:only-of-type {\n",
       "        vertical-align: middle;\n",
       "    }\n",
       "\n",
       "    .dataframe tbody tr th {\n",
       "        vertical-align: top;\n",
       "    }\n",
       "\n",
       "    .dataframe thead th {\n",
       "        text-align: right;\n",
       "    }\n",
       "</style>\n",
       "<table border=\"1\" class=\"dataframe\">\n",
       "  <thead>\n",
       "    <tr style=\"text-align: right;\">\n",
       "      <th></th>\n",
       "      <th>fft_int_std</th>\n",
       "      <th>fft_int_mean</th>\n",
       "      <th>image_mean</th>\n",
       "      <th>image_std</th>\n",
       "      <th>fft_int_com</th>\n",
       "      <th>labels</th>\n",
       "    </tr>\n",
       "  </thead>\n",
       "  <tbody>\n",
       "    <tr>\n",
       "      <th>0</th>\n",
       "      <td>9.172272e+05</td>\n",
       "      <td>1.269948e+06</td>\n",
       "      <td>106.339683</td>\n",
       "      <td>20.959084</td>\n",
       "      <td>13.843516</td>\n",
       "      <td>empty</td>\n",
       "    </tr>\n",
       "    <tr>\n",
       "      <th>1</th>\n",
       "      <td>6.195358e+05</td>\n",
       "      <td>8.591957e+05</td>\n",
       "      <td>108.463824</td>\n",
       "      <td>20.612072</td>\n",
       "      <td>11.792349</td>\n",
       "      <td>nofringe</td>\n",
       "    </tr>\n",
       "    <tr>\n",
       "      <th>2</th>\n",
       "      <td>2.074968e+06</td>\n",
       "      <td>2.361819e+06</td>\n",
       "      <td>106.778346</td>\n",
       "      <td>21.010064</td>\n",
       "      <td>19.260867</td>\n",
       "      <td>agglomeration</td>\n",
       "    </tr>\n",
       "    <tr>\n",
       "      <th>3</th>\n",
       "      <td>7.944570e+05</td>\n",
       "      <td>1.101360e+06</td>\n",
       "      <td>105.083205</td>\n",
       "      <td>23.412287</td>\n",
       "      <td>12.412479</td>\n",
       "      <td>yes</td>\n",
       "    </tr>\n",
       "    <tr>\n",
       "      <th>4</th>\n",
       "      <td>1.078469e+06</td>\n",
       "      <td>1.458061e+06</td>\n",
       "      <td>96.785651</td>\n",
       "      <td>20.886708</td>\n",
       "      <td>15.477466</td>\n",
       "      <td>agglomeration</td>\n",
       "    </tr>\n",
       "  </tbody>\n",
       "</table>\n",
       "</div>"
      ],
      "text/plain": [
       "    fft_int_std  fft_int_mean  image_mean  image_std  fft_int_com  \\\n",
       "0  9.172272e+05  1.269948e+06  106.339683  20.959084    13.843516   \n",
       "1  6.195358e+05  8.591957e+05  108.463824  20.612072    11.792349   \n",
       "2  2.074968e+06  2.361819e+06  106.778346  21.010064    19.260867   \n",
       "3  7.944570e+05  1.101360e+06  105.083205  23.412287    12.412479   \n",
       "4  1.078469e+06  1.458061e+06   96.785651  20.886708    15.477466   \n",
       "\n",
       "          labels  \n",
       "0          empty  \n",
       "1       nofringe  \n",
       "2  agglomeration  \n",
       "3            yes  \n",
       "4  agglomeration  "
      ]
     },
     "execution_count": 361,
     "metadata": {},
     "output_type": "execute_result"
    }
   ],
   "source": [
    "df_relabel2.head()"
   ]
  },
  {
   "cell_type": "markdown",
   "metadata": {},
   "source": [
    "# Train, Val, Test Split"
   ]
  },
  {
   "cell_type": "code",
   "execution_count": 381,
   "metadata": {},
   "outputs": [
    {
     "data": {
      "text/plain": [
       "no               161\n",
       "yes              150\n",
       "nofringe         143\n",
       "agglomeration    116\n",
       "empty             97\n",
       "Name: labels, dtype: int64"
      ]
     },
     "execution_count": 381,
     "metadata": {},
     "output_type": "execute_result"
    }
   ],
   "source": [
    "df_relabel2['labels'].value_counts()"
   ]
  },
  {
   "cell_type": "code",
   "execution_count": 362,
   "metadata": {},
   "outputs": [],
   "source": [
    "def split_set_v2(df,labels,fraction,include_last=True):\n",
    "    \"\"\"splits training and testing dataframes into feature and label sets\"\"\"\n",
    "    idx = int(df.shape[0]*fraction)\n",
    "    total = idx*2\n",
    "    idx_train = df.shape[0]-total\n",
    "    if include_last == False:\n",
    "        X_train = df.iloc[:idx_train,:-1]\n",
    "        X_test = df.iloc[idx_train:idx_train+idx,:-1]\n",
    "        X_val = df.iloc[idx_train+idx:,:-1]\n",
    "    else:\n",
    "        X_train = df.iloc[:idx_train,:]\n",
    "        X_test = df.iloc[idx_train:idx_train+idx,:]\n",
    "        X_val = df.iloc[idx_train+idx:,:]\n",
    "    Y_train = labels[:idx_train]\n",
    "    Y_test = labels[idx_train:idx_train+idx]\n",
    "    Y_val = labels[idx_train+idx:]\n",
    "    return X_train, Y_train, X_test, Y_test, X_val, Y_val"
   ]
  },
  {
   "cell_type": "code",
   "execution_count": 363,
   "metadata": {},
   "outputs": [],
   "source": [
    "X_train_redo, Y_train_redo, X_test_redo, Y_test_redo, X_val_redo, Y_val_redo = split_set_v2(df_relabel2.iloc[:,:-1],df_relabel2['labels'],0.25)"
   ]
  },
  {
   "cell_type": "code",
   "execution_count": null,
   "metadata": {},
   "outputs": [],
   "source": [
    "X_train_relabel2.to_csv('20200310_X_train_relabel2.csv')\n",
    "Y_train_relabel2.to_csv('20200310_Y_train_relabel2.csv')\n",
    "X_test_relabel2.to_csv('20200310_X_test_relabel2.csv')\n",
    "Y_test_relabel2.to_csv('20200310_Y_test_relabel2.csv')\n",
    "X_val_relabel2.to_csv('20200310_X_val_relabel2.csv')\n",
    "Y_val_relabel2.to_csv('20200310_Y_val_relabel2.csv')"
   ]
  },
  {
   "cell_type": "markdown",
   "metadata": {},
   "source": [
    "# Train and Validate Random Forest"
   ]
  },
  {
   "cell_type": "code",
   "execution_count": 47,
   "metadata": {},
   "outputs": [],
   "source": [
    "X_test_relabel2=pd.read_csv('20200310_X_test_relabel2.csv')\n",
    "Y_test_relabel2=pd.read_csv('20200310_Y_test_relabel2.csv',index_col=0,names=['data'])\n",
    "X_val_relabel2=pd.read_csv('20200310_X_val_relabel2.csv')\n",
    "Y_val_relabel2=pd.read_csv('20200310_Y_val_relabel2.csv',index_col=0,names=['data'])\n",
    "X_train_relabel2=pd.read_csv('20200310_X_train_relabel2.csv')\n",
    "Y_train_relabel2=pd.read_csv('20200310_Y_train_relabel2.csv',index_col=0,names=['data'])"
   ]
  },
  {
   "cell_type": "code",
   "execution_count": 365,
   "metadata": {},
   "outputs": [],
   "source": [
    "def train_random_forest2(X_train, Y_train, nestimators = 50,crit='gini',max_feat='auto'):\n",
    "    \"\"\"function that takes in the training feature set and training labels and trains a radnom forest with \n",
    "    n estimators given by nestimators\"\"\"\n",
    "    classifier = RandomForestClassifier(n_estimators= nestimators,criterion= crit,max_features=max_feat,oob_score=True)\n",
    "    classifier.fit(X_train, Y_train)\n",
    "    return classifier"
   ]
  },
  {
   "cell_type": "code",
   "execution_count": 366,
   "metadata": {},
   "outputs": [],
   "source": [
    "model_redo = train_random_forest2(X_train_redo,Y_train_redo,nestimators=500)"
   ]
  },
  {
   "cell_type": "code",
   "execution_count": 386,
   "metadata": {},
   "outputs": [],
   "source": [
    "pickle.dump(model_redo,open('final_randomforest_24042020.pkl','wb'))"
   ]
  },
  {
   "cell_type": "code",
   "execution_count": 367,
   "metadata": {},
   "outputs": [
    {
     "data": {
      "text/plain": [
       "0.8507462686567164"
      ]
     },
     "execution_count": 367,
     "metadata": {},
     "output_type": "execute_result"
    }
   ],
   "source": [
    "model_redo.oob_score_"
   ]
  },
  {
   "cell_type": "code",
   "execution_count": 69,
   "metadata": {},
   "outputs": [],
   "source": [
    "#load original model\n",
    "model3 = pickle.load(open('final_randomforest.pkl','rb'))"
   ]
  },
  {
   "cell_type": "code",
   "execution_count": 368,
   "metadata": {},
   "outputs": [],
   "source": [
    "# take classes imbalance into account\n",
    "def class_weights(Y_true):\n",
    "    agg_count = 0\n",
    "    empty_count = 0\n",
    "    no_count = 0\n",
    "    nofringe_count = 0\n",
    "    yes_count = 0\n",
    "    for i in Y_true:\n",
    "        if i == 'agglomeration':\n",
    "            agg_count +=1\n",
    "        elif i == 'empty':\n",
    "            empty_count +=1\n",
    "        elif i == 'no':\n",
    "            no_count +=1\n",
    "        elif i == 'nofringe':\n",
    "            nofringe_count +=1\n",
    "        elif i == 'yes':\n",
    "            yes_count +=1\n",
    "    weights = np.array([agg_count/len(Y_true),empty_count/len(Y_true),no_count/len(Y_true),nofringe_count/len(Y_true),yes_count/len(Y_true)])\n",
    "    samp_weights = np.zeros(len(Y_true))\n",
    "    for idx,i in enumerate(Y_true):\n",
    "        if i == 'agglomeration':\n",
    "            samp_weights[idx] = weights[0]\n",
    "        elif i == 'empty':\n",
    "            samp_weights[idx] = weights[1]\n",
    "        elif i == 'no':\n",
    "            samp_weights[idx] = weights[2]\n",
    "        elif i == 'nofringe':\n",
    "            samp_weights[idx] = weights[3]\n",
    "        elif i == 'yes':\n",
    "            samp_weights[idx] = weights[4] \n",
    "    return weights, samp_weights"
   ]
  },
  {
   "cell_type": "code",
   "execution_count": 369,
   "metadata": {},
   "outputs": [
    {
     "data": {
      "text/plain": [
       "0.8639272482317281"
      ]
     },
     "execution_count": 369,
     "metadata": {},
     "output_type": "execute_result"
    }
   ],
   "source": [
    "weights, samp_weights = class_weights(Y_val_redo)\n",
    "\n",
    "model_redo.score(X_val_redo,Y_val_redo,samp_weights)"
   ]
  },
  {
   "cell_type": "code",
   "execution_count": 371,
   "metadata": {},
   "outputs": [
    {
     "data": {
      "text/plain": [
       "<sklearn.metrics._plot.confusion_matrix.ConfusionMatrixDisplay at 0x1a3ba16518>"
      ]
     },
     "execution_count": 371,
     "metadata": {},
     "output_type": "execute_result"
    },
    {
     "data": {
      "image/png": "[encoded data removed]",
      "text/plain": [
       "<Figure size 432x288 with 2 Axes>"
      ]
     },
     "metadata": {},
     "output_type": "display_data"
    }
   ],
   "source": [
    "metrics.plot_confusion_matrix(model_redo,X_val_redo,Y_val_redo,normalize='true',xticks_rotation=85,values_format='0.2f')"
   ]
  },
  {
   "cell_type": "code",
   "execution_count": null,
   "metadata": {},
   "outputs": [],
   "source": []
  }
 ],
 "metadata": {
  "kernelspec": {
   "display_name": "Python 3",
   "language": "python",
   "name": "python3"
  },
  "language_info": {
   "codemirror_mode": {
    "name": "ipython",
    "version": 3
   },
   "file_extension": ".py",
   "mimetype": "text/x-python",
   "name": "python",
   "nbconvert_exporter": "python",
   "pygments_lexer": "ipython3",
   "version": "3.6.10"
  }
 },
 "nbformat": 4,
 "nbformat_minor": 2
}
