{
 "cells": [
  {
   "cell_type": "code",
   "execution_count": null,
   "metadata": {},
   "outputs": [],
   "source": [
    "import numpy as np\n",
    "import scipy.fftpack as ftp\n",
    "import matplotlib.pyplot as plt\n",
    "from scipy.signal import medfilt2d\n",
    "from skimage.util import pad\n",
    "import sys\n",
    "import h5py\n",
    "import realDataProcess as rdp\n",
    "import freqCutting as fcut\n",
    "from scipy import signal\n",
    "from skimage.morphology import opening, closing\n",
    "from skimage.measure import label, regionprops"
   ]
  },
  {
   "cell_type": "markdown",
   "metadata": {},
   "source": [
    "# Defining functions for bragg filtering`"
   ]
  },
  {
   "cell_type": "code",
   "execution_count": null,
   "metadata": {},
   "outputs": [],
   "source": [
    "def gkern(kernlen=21, std=3):\n",
    "    \"\"\"Returns a 2D Gaussian kernel array.\"\"\"\n",
    "    gkern1d = signal.gaussian(kernlen, std=std).reshape(kernlen, 1)\n",
    "    gkern2d = np.outer(gkern1d, gkern1d)\n",
    "    return gkern2d\n",
    "\n",
    "def bragg_filter(img,ksize = 9, sig = 1,shape = (512,512),cut_edge = (50,50), plot = False, morph = False, morph2 = False):\n",
    "    \"\"\"Creates a filtered fft of the input image. The gaussian kernel used to find peaks is controlled by ksize and sig.\"\"\"\n",
    "    fft = ftp.fftshift(ftp.fft2(img.reshape(img.shape[0],img.shape[1])))\n",
    "    intf = np.log(abs(fft)**2)\n",
    "    intfilt= medfilt2d(intf,kernel_size=25)\n",
    "    if plot == True:\n",
    "        plt.figure()\n",
    "        rdp.imm(img)\n",
    "        plt.figure()\n",
    "        rdp.imm(intf)\n",
    "        plt.figure()\n",
    "        rdp.imm(intfilt)\n",
    "    dif = intf-intfilt\n",
    "    dif[dif < 2*intfilt.std()] = 0\n",
    "    if morph == True:\n",
    "        dif = closing(dif)\n",
    "        dif = opening(dif)\n",
    "    if plot == True:\n",
    "        plt.figure()\n",
    "        rdp.imm(dif)\n",
    "    kernel = gkern(ksize,sig)\n",
    "    if plot == True:\n",
    "        plt.figure()\n",
    "        plt.imshow(kernel)\n",
    "    peaks = signal.convolve2d(dif,kernel)\n",
    "    cut_pix_x = (peaks.shape[0]- shape[0])//2\n",
    "    cut_pix_y = (peaks.shape[1]- shape[1])//2\n",
    "    peaks = peaks[cut_pix_x:-cut_pix_x,cut_pix_y:-cut_pix_y]\n",
    "    if plot == True:\n",
    "        plt.figure()\n",
    "        rdp.imm(dif)\n",
    "    peaks[:cut_edge[0],:]= 0\n",
    "    peaks[-cut_edge[0]:,:] =0\n",
    "    peaks[:,:cut_edge[1]]= 0\n",
    "    peaks[:,-cut_edge[1]:] =0\n",
    "    peaks[peaks>0] = 1\n",
    "    smoother_peaks = signal.convolve2d(peaks,kernel)\n",
    "    smoother_peaks = smoother_peaks[cut_pix_x:-cut_pix_x,cut_pix_y:-cut_pix_y]\n",
    "    if morph2 == True:\n",
    "        smoother_peaks = closing(smoother_peaks)\n",
    "        smoother_peaks = opening(smoother_peaks)\n",
    "    inv_peaks = smoother_peaks.copy()\n",
    "    inv_peaks += 1\n",
    "    inv_peaks[inv_peaks> 1] = 0\n",
    "    inv_peaks = signal.convolve2d(inv_peaks,kernel)\n",
    "    inv_peaks = inv_peaks[cut_pix_x:-cut_pix_x,cut_pix_y:-cut_pix_y]\n",
    "    filtered_fft = fft*smoother_peaks\n",
    "    inv_filtered_fft = fft*inv_peaks\n",
    "    return filtered_fft, inv_filtered_fft\n",
    "\n",
    "def bragg_seg(filt_fft):\n",
    "    \"\"\"Segmentation of fourier transform\"\"\"\n",
    "    ffft = ftp.fftshift(filt_fft)\n",
    "    half_point = filt_fft.shape[0]//2\n",
    "    ffft[half_point:,:] = 0\n",
    "    seg_map = ftp.ifft2(ffft)\n",
    "    return ffft,seg_map\n",
    "\n",
    "def isolate_bragg_peaks(filt_fft, peak_thresh = 100, plot = False):\n",
    "    \"\"\"Inputting a filtered fft from the bragg filter function returns array of segmentation maps based on each identified bragg peak\"\"\"\n",
    "    testf, testr = bragg_seg(filt_fft)\n",
    "    \n",
    "    image = np.real(np.sqrt(ftp.fftshift(testf.copy())**2)).astype('uint8')\n",
    "\n",
    "    # apply threshold\n",
    "    thresh = threshold_otsu(image)\n",
    "    bw = closing(image > thresh, square(3))\n",
    "\n",
    "    # remove artifacts connected to image border\n",
    "    cleared = clear_border(bw)\n",
    "\n",
    "    # label image regions\n",
    "    label_image = label(cleared)\n",
    "    image_label_overlay = label2rgb(label_image, image=image)\n",
    "    \n",
    "    if plot == True:\n",
    "        fig, ax = plt.subplots(figsize=(10, 6))\n",
    "        ax.imshow(image_label_overlay)\n",
    "\n",
    "    bragg_spots = []\n",
    "\n",
    "    for region in regionprops(label_image):\n",
    "        # take regions with large enough areas\n",
    "            # draw rectangle around segmented coins\n",
    "        if region.area > peak_thresh:\n",
    "            minr, minc, maxr, maxc = region.bbox\n",
    "            filt = ftp.fftshift(testf.copy())\n",
    "            filt[:minr,:] = 0\n",
    "            filt[maxr:,:] = 0\n",
    "            filt[:,:minc] = 0\n",
    "            filt[:,maxc:] = 0\n",
    "            bragg_spots.append(filt)\n",
    "            if plot == True:\n",
    "                rect = mpatches.Rectangle((minc, minr), maxc - minc, maxr - minr,\n",
    "                                          fill=False, edgecolor='red', linewidth=2)\n",
    "            ax.add_patch(rect)\n",
    "    if plot == True:\n",
    "        ax.set_axis_off()\n",
    "        plt.tight_layout()\n",
    "        plt.show()\n",
    "\n",
    "    bragg_spots = np.asarray(bragg_spots)\n",
    "    return bragg_spots\n",
    "\n",
    "def plot_ifft3(fft):\n",
    "    img = abs(ftp.ifft2(fft))**2\n",
    "    img -= img.min()\n",
    "    img = img/img.max()\n",
    "    plt.figure(figsize=(10,10))\n",
    "    plt.imshow(img,cmap='gray')\n",
    "    plt.axis('off')\n",
    "    return img\n",
    "    "
   ]
  },
  {
   "cell_type": "markdown",
   "metadata": {},
   "source": [
    "# Implementing bragg filtering on Pd test image"
   ]
  },
  {
   "cell_type": "code",
   "execution_count": null,
   "metadata": {},
   "outputs": [],
   "source": [
    "#load data\n",
    "Pd = np.load('Pdimg.npy')\n",
    "Pd = Pd.reshape((512,512))"
   ]
  },
  {
   "cell_type": "code",
   "execution_count": null,
   "metadata": {},
   "outputs": [],
   "source": [
    "#chack filtering \n",
    "fcut.immFFT(Pd_ffft[0])"
   ]
  },
  {
   "cell_type": "code",
   "execution_count": null,
   "metadata": {},
   "outputs": [],
   "source": [
    "#create filtered version of image fft\n",
    "Pd_ffft = bragg_filter(Pd)"
   ]
  },
  {
   "cell_type": "code",
   "execution_count": null,
   "metadata": {},
   "outputs": [],
   "source": [
    "#get segmentation maps for each bragg peak\n",
    "Pd_peaks = isolate_bragg_peaks(Pd_ffft[0].copy(),peak_thresh=30,plot = True)"
   ]
  },
  {
   "cell_type": "code",
   "execution_count": null,
   "metadata": {},
   "outputs": [],
   "source": [
    "#plot each of the segmentation maps generated to determine bad maps\n",
    "a3 = plot_ifft3(Pd_peaks[61])\n",
    "plt.colorbar()"
   ]
  },
  {
   "cell_type": "code",
   "execution_count": null,
   "metadata": {},
   "outputs": [],
   "source": [
    "#generate list of good segmentation maps\n",
    "good_Pd = [5,9,15,19,24,31,32,37,46,54]"
   ]
  },
  {
   "cell_type": "code",
   "execution_count": null,
   "metadata": {},
   "outputs": [],
   "source": [
    "#compile segmentation maps\n",
    "Pd_final_seg = np.zeros((512,512))\n",
    "for idx, img in enumerate(Pd_peaks):\n",
    "    if idx not in good_Pd:\n",
    "        pass\n",
    "    else:\n",
    "        img = abs(ftp.ifft2(img))**2\n",
    "        img -= img.min()\n",
    "        img = img/img.max()\n",
    "        img[img<0.1] = 0\n",
    "        Pd_final_seg += img"
   ]
  },
  {
   "cell_type": "code",
   "execution_count": null,
   "metadata": {},
   "outputs": [],
   "source": [
    "#determine final segmentation map\n",
    "Pd_final_seg[Pd_final_seg>0.6] = 1\n",
    "Pd_final_seg[Pd_final_seg<1] = 0\n",
    "rdp.imm(Pd_final_seg)"
   ]
  },
  {
   "cell_type": "code",
   "execution_count": null,
   "metadata": {},
   "outputs": [],
   "source": [
    "#save result\n",
    "np.save('Pd_bragg_map.npy',Pd_final_seg)"
   ]
  },
  {
   "cell_type": "markdown",
   "metadata": {},
   "source": [
    "# Bragg filtering on Au"
   ]
  },
  {
   "cell_type": "code",
   "execution_count": null,
   "metadata": {},
   "outputs": [],
   "source": [
    "#load data\n",
    "Au = np.load('Auimg.npy')\n",
    "Au = Au.reshape((512,512))"
   ]
  },
  {
   "cell_type": "code",
   "execution_count": null,
   "metadata": {},
   "outputs": [],
   "source": [
    "Au_ffft, _ = bragg_filter(Au,ksize=3,sig =1,morph = True)"
   ]
  },
  {
   "cell_type": "code",
   "execution_count": null,
   "metadata": {},
   "outputs": [],
   "source": [
    "#check filtering\n",
    "fcut.immFFT(Au_ffft_2)"
   ]
  },
  {
   "cell_type": "code",
   "execution_count": null,
   "metadata": {},
   "outputs": [],
   "source": [
    "Au_peaks = isolate_bragg_peaks(Au_ffft_2,plot=True)"
   ]
  },
  {
   "cell_type": "code",
   "execution_count": null,
   "metadata": {},
   "outputs": [],
   "source": [
    "Au0 = plot_ifft3(Au_peaks[6])\n",
    "plt.colorbar()"
   ]
  },
  {
   "cell_type": "code",
   "execution_count": null,
   "metadata": {},
   "outputs": [],
   "source": [
    "Au_final_seg = np.zeros((512,512))\n",
    "for idx, img in enumerate(Au_peaks):\n",
    "    if idx == 32 or idx == 35 or idx == 41 or idx == 53 or idx == 82 or idx ==86:\n",
    "        pass\n",
    "    else:\n",
    "        img = abs(ftp.ifft2(img))**2\n",
    "        img -= img.min()\n",
    "        img = img/img.max()\n",
    "        img[img<0.07] = 0\n",
    "        Au_final_seg += img\n",
    "Au_final_seg=Au_final_seg/Au_final_seg.max()\n",
    "Au_final_seg[Au_final_seg2>0.4] = 1\n",
    "Au_final_seg[Au_final_seg2<1] = 0"
   ]
  },
  {
   "cell_type": "code",
   "execution_count": null,
   "metadata": {},
   "outputs": [],
   "source": [
    "#display segmentation over original image\n",
    "rdp.immOverlay(Auimg,Au_final_seg,0)"
   ]
  },
  {
   "cell_type": "code",
   "execution_count": null,
   "metadata": {},
   "outputs": [],
   "source": [
    "np.save('Au_bragg_v2.npy',Au_final_seg)"
   ]
  },
  {
   "cell_type": "markdown",
   "metadata": {},
   "source": [
    "# Bragg filtering on CdSe"
   ]
  },
  {
   "cell_type": "code",
   "execution_count": null,
   "metadata": {},
   "outputs": [],
   "source": [
    "#load data\n",
    "CdSe = np.load('CdSeimg.npy')\n",
    "CdSe = CdSe.reshape((512,512))"
   ]
  },
  {
   "cell_type": "code",
   "execution_count": null,
   "metadata": {},
   "outputs": [],
   "source": [
    "#bragg filter\n",
    "CdSe_ffft,_ = bragg_filter(CdSe,ksize=5,sig=1,morph2=True)"
   ]
  },
  {
   "cell_type": "code",
   "execution_count": null,
   "metadata": {},
   "outputs": [],
   "source": [
    "#cheack bragg filtering\n",
    "fcut.immFFT(CdSe_ffft)"
   ]
  },
  {
   "cell_type": "code",
   "execution_count": null,
   "metadata": {},
   "outputs": [],
   "source": [
    "#isolate peaks and create segmentation map for each\n",
    "CdSe_peaks = isolate_bragg_peaks(CdSe_ffft.copy(),peak_thresh=30,plot = True)"
   ]
  },
  {
   "cell_type": "code",
   "execution_count": null,
   "metadata": {},
   "outputs": [],
   "source": [
    "#determine good maps\n",
    "_ = plot_ifft3(CdSe_peaks[0])\n",
    "plt.colorbar()"
   ]
  },
  {
   "cell_type": "code",
   "execution_count": null,
   "metadata": {},
   "outputs": [],
   "source": [
    "#create final segmentation map\n",
    "CdSe_final_seg = np.zeros((512,512))\n",
    "bad_index = [1,2,3,7,16,20,23,31,25,28,29,30,31]\n",
    "for idx, img in enumerate(CdSe_peaks):\n",
    "    if idx in bad_index:\n",
    "        pass\n",
    "    else:\n",
    "        img = abs(ftp.ifft2(img))**2\n",
    "        img -= img.min()\n",
    "        img = img/img.max()\n",
    "        img[img<0.7] = 0\n",
    "        CdSe_final_seg += img\n",
    "CdSe_final_seg3 = CdSe_final_seg/CdSe_final_seg.max()\n",
    "CdSe_final_seg[CdSe_final_seg>0] = 1"
   ]
  },
  {
   "cell_type": "code",
   "execution_count": null,
   "metadata": {},
   "outputs": [],
   "source": [
    "#display segmentation over original iamge\n",
    "rdp.immOverlay(CdSeimg,CdSe_final_seg,0)"
   ]
  },
  {
   "cell_type": "code",
   "execution_count": null,
   "metadata": {},
   "outputs": [],
   "source": [
    "np.save('CdSe_bragg_v2.npy',CdSe_final_seg3)"
   ]
  }
 ],
 "metadata": {
  "kernelspec": {
   "display_name": "Python [default]",
   "language": "python",
   "name": "python3"
  },
  "language_info": {
   "codemirror_mode": {
    "name": "ipython",
    "version": 3
   },
   "file_extension": ".py",
   "mimetype": "text/x-python",
   "name": "python",
   "nbconvert_exporter": "python",
   "pygments_lexer": "ipython3",
   "version": "3.6.7"
  }
 },
 "nbformat": 4,
 "nbformat_minor": 2
}
