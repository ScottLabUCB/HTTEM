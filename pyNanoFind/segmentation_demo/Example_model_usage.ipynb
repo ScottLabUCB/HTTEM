{
 "cells": [
  {
   "cell_type": "code",
   "execution_count": 2,
   "metadata": {},
   "outputs": [
    {
     "name": "stderr",
     "output_type": "stream",
     "text": [
      "Using TensorFlow backend.\n"
     ]
    }
   ],
   "source": [
    "import sys\n",
    "import numpy as np\n",
    "import numpy as np\n",
    "import matplotlib.pyplot as plt\n",
    "import sys\n",
    "import h5py\n",
    "from sklearn import metrics\n",
    "import seaborn as sns\n",
    "import ncempy.io.dm as dm\n",
    "import ncempy.io.mrc as mrc\n",
    "sys.path.append('pyNanoFind/')\n",
    "import realDataProcess as rdp\n",
    "import segmentationAnalysis as sega\n",
    "from keras.models import Model\n",
    "from keras.layers import *\n",
    "from keras.optimizers import Adam\n",
    "from keras.utils import to_categorical\n",
    "from keras import backend as K\n",
    "from keras.callbacks import EarlyStopping, ModelCheckpoint, TensorBoard\n",
    "from keras.losses import binary_crossentropy\n",
    "from keras.models import load_model\n",
    "import pandas as pd\n",
    "from matplotlib.patches import Rectangle\n",
    "import scipy.fftpack as ftp\n",
    "from scipy.signal import medfilt2d\n",
    "from scipy import signal\n",
    "import CNNviz as cviz"
   ]
  },
  {
   "cell_type": "code",
   "execution_count": null,
   "metadata": {},
   "outputs": [],
   "source": [
    "# load data - data is available via Zenodo: https://zenodo.org/record/3755011#.Xpo0mlNKgUE\n",
    "combined = h5py.File('Bal_MedFilt_AuCdSeDots_20190726_v2.h5')['images'][:,:,:,:]\n",
    "combinedMaps = h5py.File('Bal_MedFilt_AuCdSeDots_20190726_maps_v2.h5')['maps'][:,:,:,:]"
   ]
  },
  {
   "cell_type": "code",
   "execution_count": null,
   "metadata": {},
   "outputs": [],
   "source": [
    "# load model weights for combined network\n",
    "model_combined = cviz.get_unet((512,512,1),2)\n",
    "model_combined.load_weights('trained_models/unet32_AuCdSeDots_09_final.h5')"
   ]
  },
  {
   "cell_type": "code",
   "execution_count": null,
   "metadata": {},
   "outputs": [],
   "source": [
    "# predict segmentation maps on training sets\n",
    "pred_train_combined = model_combined.predict(combined[:129])"
   ]
  },
  {
   "cell_type": "code",
   "execution_count": null,
   "metadata": {},
   "outputs": [],
   "source": [
    "# calculate threshold on the training set\n",
    "acc_combined, thresh_combined = sega.find_thresh(combinedMaps[:129],pred_train_combined,thresh=0.8,step=0.02)"
   ]
  },
  {
   "cell_type": "code",
   "execution_count": null,
   "metadata": {},
   "outputs": [],
   "source": [
    "# predict on the test set\n",
    "pred_test = model_combined.predict(combinedMaps[129:])"
   ]
  },
  {
   "cell_type": "code",
   "execution_count": null,
   "metadata": {},
   "outputs": [],
   "source": [
    "# make segmentation map binary\n",
    "binary_pred_test = sega.binarize_map(pred_test[:,:,:,1],thresh_combined)"
   ]
  },
  {
   "cell_type": "code",
   "execution_count": null,
   "metadata": {},
   "outputs": [],
   "source": [
    "# view binary segmentation map overlayed on original image\n",
    "rdp.imm(combined[129:],binary_pred_test,0)"
   ]
  },
  {
   "cell_type": "code",
   "execution_count": null,
   "metadata": {},
   "outputs": [],
   "source": [
    "# calculate confusion matrix\n",
    "cfm = metrics.confusion_matrix(combinedMaps[129:].flatten(),binary_pred_test.flatten())\n",
    "sega.plot_confusion_matrix(cfm,['background','particle'],'jet',True)"
   ]
  }
 ],
 "metadata": {
  "anaconda-cloud": {},
  "kernelspec": {
   "display_name": "Python 3",
   "language": "python",
   "name": "python3"
  },
  "language_info": {
   "codemirror_mode": {
    "name": "ipython",
    "version": 3
   },
   "file_extension": ".py",
   "mimetype": "text/x-python",
   "name": "python",
   "nbconvert_exporter": "python",
   "pygments_lexer": "ipython3",
   "version": "3.6.10"
  }
 },
 "nbformat": 4,
 "nbformat_minor": 2
}
